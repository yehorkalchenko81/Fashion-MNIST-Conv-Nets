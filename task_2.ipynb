{
  "cells": [
    {
      "cell_type": "code",
      "execution_count": 9,
      "metadata": {
        "id": "-Y8CeQbgqwgX"
      },
      "outputs": [],
      "source": [
        "import tensorflow as tf\n",
        "import keras as K\n",
        "import numpy as np\n",
        "from keras.optimizers import Adam\n",
        "from keras.applications import VGG16\n",
        "from keras.datasets import fashion_mnist\n",
        "from keras.models import Sequential\n",
        "from keras.layers import Dense, Flatten, GlobalAveragePooling2D"
      ]
    },
    {
      "cell_type": "code",
      "execution_count": 10,
      "metadata": {
        "id": "CyQaKs8hqwgY"
      },
      "outputs": [],
      "source": [
        "(x_train, y_train), (x_test, y_test) = fashion_mnist.load_data()\n",
        "\n",
        "x_train = np.stack([np.stack([x, x, x], axis=-1) for x in x_train]) # Перетворення на RGB\n",
        "x_test = np.stack([np.stack([x, x, x], axis=-1) for x in x_test])\n",
        "x_train = tf.image.resize(x_train, (32, 32)).numpy()\n",
        "x_test = tf.image.resize(x_test, (32, 32)).numpy()\n",
        "\n",
        "x_train = x_train[:2000]\n",
        "y_train = y_train[:2000]\n",
        "\n",
        "x_test = x_test[:500]\n",
        "y_test = y_test[:500]\n",
        "\n",
        "x_train, x_test = x_train / 255., x_test / 255."
      ]
    },
    {
      "cell_type": "code",
      "source": [
        "base_model = VGG16(weights='imagenet', include_top=False, input_shape=(32, 32, 3))\n",
        "\n",
        "# Створення нової моделі з додаванням власних шарів для класифікації\n",
        "model = Sequential([\n",
        "    base_model,\n",
        "    K.layers.Input(shape=(32, 32, 3)),\n",
        "    K.layers.Flatten(),\n",
        "    Dense(128, activation='relu'),\n",
        "    Dense(10)  # 10 класів для Fashion MNIST\n",
        "])"
      ],
      "metadata": {
        "id": "7zwwLEPxvH5Y"
      },
      "execution_count": 11,
      "outputs": []
    },
    {
      "cell_type": "code",
      "source": [
        "model.compile(\n",
        "    optimizer=Adam(0.001),\n",
        "    loss=K.losses.SparseCategoricalCrossentropy(from_logits=True),\n",
        "    metrics=[K.metrics.SparseCategoricalAccuracy()]\n",
        ")"
      ],
      "metadata": {
        "id": "hyPGDjHsyskp"
      },
      "execution_count": 12,
      "outputs": []
    },
    {
      "cell_type": "code",
      "source": [
        "history = model.fit(x_train, y_train, epochs=5, validation_data=(x_test, y_test), batch_size=100)"
      ],
      "metadata": {
        "colab": {
          "base_uri": "https://localhost:8080/"
        },
        "id": "taeMnpuSw4ow",
        "outputId": "87493a23-a440-4197-b847-605e71ed92da"
      },
      "execution_count": 13,
      "outputs": [
        {
          "output_type": "stream",
          "name": "stdout",
          "text": [
            "Epoch 1/5\n",
            "20/20 [==============================] - 161s 8s/step - loss: 2.3832 - sparse_categorical_accuracy: 0.1205 - val_loss: 2.2755 - val_sparse_categorical_accuracy: 0.1100\n",
            "Epoch 2/5\n",
            "20/20 [==============================] - 154s 8s/step - loss: 1.8622 - sparse_categorical_accuracy: 0.2535 - val_loss: 1.6047 - val_sparse_categorical_accuracy: 0.3040\n",
            "Epoch 3/5\n",
            "20/20 [==============================] - 154s 8s/step - loss: 1.4739 - sparse_categorical_accuracy: 0.3615 - val_loss: 1.3062 - val_sparse_categorical_accuracy: 0.4020\n",
            "Epoch 4/5\n",
            "20/20 [==============================] - 149s 7s/step - loss: 1.2385 - sparse_categorical_accuracy: 0.4730 - val_loss: 1.1223 - val_sparse_categorical_accuracy: 0.5300\n",
            "Epoch 5/5\n",
            "20/20 [==============================] - 150s 7s/step - loss: 1.1084 - sparse_categorical_accuracy: 0.5200 - val_loss: 1.0865 - val_sparse_categorical_accuracy: 0.5360\n"
          ]
        }
      ]
    },
    {
      "cell_type": "code",
      "source": [],
      "metadata": {
        "id": "onnAoUvoxGYO"
      },
      "execution_count": 13,
      "outputs": []
    }
  ],
  "metadata": {
    "kernelspec": {
      "display_name": "Python 3",
      "language": "python",
      "name": "python3"
    },
    "language_info": {
      "codemirror_mode": {
        "name": "ipython",
        "version": 3
      },
      "file_extension": ".py",
      "mimetype": "text/x-python",
      "name": "python",
      "nbconvert_exporter": "python",
      "pygments_lexer": "ipython3",
      "version": "3.12.3"
    },
    "colab": {
      "provenance": []
    }
  },
  "nbformat": 4,
  "nbformat_minor": 0
}